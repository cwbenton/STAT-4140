{
 "cells": [
  {
   "cell_type": "markdown",
   "id": "b280c3c0",
   "metadata": {},
   "source": [
    "## Panadas is Used for most data analysis in Python \n",
    "Well suited to handle tabular data which is heterogenous in nature"
   ]
  },
  {
   "cell_type": "code",
   "execution_count": 31,
   "id": "c8bae971",
   "metadata": {},
   "outputs": [],
   "source": [
    "#importing pandas library\n",
    "import pandas as pd"
   ]
  },
  {
   "cell_type": "markdown",
   "id": "0313ff95",
   "metadata": {},
   "source": [
    "Two key data structures used by python: <br>\n",
    "    Series - used to represent one-dimensional data <br>\n",
    "    Dataframe - used to represent multi-dimensional data <br>"
   ]
  },
  {
   "cell_type": "markdown",
   "id": "32e9d2cc",
   "metadata": {},
   "source": [
    "#### Series"
   ]
  },
  {
   "cell_type": "code",
   "execution_count": 32,
   "id": "ddded0e9",
   "metadata": {},
   "outputs": [
    {
     "data": {
      "text/plain": [
       "0    4\n",
       "1    6\n",
       "2    5\n",
       "3    3\n",
       "dtype: int64"
      ]
     },
     "execution_count": 32,
     "metadata": {},
     "output_type": "execute_result"
    }
   ],
   "source": [
    "#Series have two arrays associated with one another - Index and the values\n",
    "s = pd.Series([4,6,5,3])\n",
    "s"
   ]
  },
  {
   "cell_type": "code",
   "execution_count": 33,
   "id": "68eab487",
   "metadata": {},
   "outputs": [
    {
     "data": {
      "text/plain": [
       "a    4\n",
       "b    6\n",
       "c    5\n",
       "d    3\n",
       "dtype: int64"
      ]
     },
     "execution_count": 33,
     "metadata": {},
     "output_type": "execute_result"
    }
   ],
   "source": [
    "#you could redefine your index values as well\n",
    "s = pd.Series([4,6,5,3],index=['a','b','c','d'])\n",
    "s"
   ]
  },
  {
   "cell_type": "code",
   "execution_count": 34,
   "id": "e39ed94f",
   "metadata": {},
   "outputs": [
    {
     "data": {
      "text/plain": [
       "Index(['a', 'b', 'c', 'd'], dtype='object')"
      ]
     },
     "execution_count": 34,
     "metadata": {},
     "output_type": "execute_result"
    }
   ],
   "source": [
    "#view the indices\n",
    "s.index"
   ]
  },
  {
   "cell_type": "code",
   "execution_count": 35,
   "id": "68f6bee5",
   "metadata": {},
   "outputs": [
    {
     "data": {
      "text/plain": [
       "array([4, 6, 5, 3])"
      ]
     },
     "execution_count": 35,
     "metadata": {},
     "output_type": "execute_result"
    }
   ],
   "source": [
    "#view the values\n",
    "s.values"
   ]
  },
  {
   "cell_type": "code",
   "execution_count": 36,
   "id": "6eeb08c4",
   "metadata": {},
   "outputs": [
    {
     "data": {
      "text/plain": [
       "dtype('int64')"
      ]
     },
     "execution_count": 36,
     "metadata": {},
     "output_type": "execute_result"
    }
   ],
   "source": [
    "s.values.dtype"
   ]
  },
  {
   "cell_type": "code",
   "execution_count": 37,
   "id": "67510ba5",
   "metadata": {},
   "outputs": [
    {
     "name": "stdout",
     "output_type": "stream",
     "text": [
      "a    4\n",
      "b    6\n",
      "dtype: int64\n",
      "5\n",
      "b    6\n",
      "c    5\n",
      "dtype: int64\n",
      "a        4\n",
      "b    apple\n",
      "c        5\n",
      "d        3\n",
      "dtype: object\n"
     ]
    },
    {
     "name": "stderr",
     "output_type": "stream",
     "text": [
      "/var/folders/5q/njvzx9bs35sg0dmp71490x800000gn/T/ipykernel_20042/424656385.py:3: FutureWarning: Series.__getitem__ treating keys as positions is deprecated. In a future version, integer keys will always be treated as labels (consistent with DataFrame behavior). To access a value by position, use `ser.iloc[pos]`\n",
      "  print(s[2])\n",
      "/var/folders/5q/njvzx9bs35sg0dmp71490x800000gn/T/ipykernel_20042/424656385.py:5: FutureWarning: Series.__setitem__ treating keys as positions is deprecated. In a future version, integer keys will always be treated as labels (consistent with DataFrame behavior). To set a value by position, use `ser.iloc[pos] = value`\n",
      "  s[2] = 5\n",
      "/var/folders/5q/njvzx9bs35sg0dmp71490x800000gn/T/ipykernel_20042/424656385.py:6: FutureWarning: Setting an item of incompatible dtype is deprecated and will raise in a future error of pandas. Value 'apple' has dtype incompatible with int64, please explicitly cast to a compatible dtype first.\n",
      "  s['b'] = 'apple'\n"
     ]
    }
   ],
   "source": [
    "#Slicing, selecting and assigning elements from the Series follow simple rules as Arrays\n",
    "print(s[['a','b']])\n",
    "print(s[2])\n",
    "print(s[1:3])\n",
    "s[2] = 5\n",
    "s['b'] = 'apple'\n",
    "print(s)\n",
    "#notice how the dtype automatically converts to 'object' once heterogenity is involved"
   ]
  },
  {
   "cell_type": "code",
   "execution_count": 38,
   "id": "46984f3e",
   "metadata": {},
   "outputs": [
    {
     "name": "stdout",
     "output_type": "stream",
     "text": [
      "<class 'pandas.core.series.Series'>\n",
      "object\n"
     ]
    }
   ],
   "source": [
    "print(type(s))\n",
    "print(s.values.dtype)"
   ]
  },
  {
   "cell_type": "code",
   "execution_count": 39,
   "id": "46f368d7",
   "metadata": {},
   "outputs": [
    {
     "data": {
      "text/plain": [
       "array([4, 'apple', 5, 3], dtype=object)"
      ]
     },
     "execution_count": 39,
     "metadata": {},
     "output_type": "execute_result"
    }
   ],
   "source": [
    "s.values"
   ]
  },
  {
   "cell_type": "code",
   "execution_count": 40,
   "id": "08be6911",
   "metadata": {},
   "outputs": [
    {
     "name": "stdout",
     "output_type": "stream",
     "text": [
      "<class 'numpy.ndarray'>\n"
     ]
    }
   ],
   "source": [
    "print(type(s.values))"
   ]
  },
  {
   "cell_type": "code",
   "execution_count": 41,
   "id": "d6769091",
   "metadata": {},
   "outputs": [
    {
     "name": "stdout",
     "output_type": "stream",
     "text": [
      "<class 'numpy.ndarray'>\n"
     ]
    }
   ],
   "source": [
    "s['b'] = 3\n",
    "print(type(s.values))"
   ]
  },
  {
   "cell_type": "code",
   "execution_count": 42,
   "id": "06fc8b68",
   "metadata": {},
   "outputs": [
    {
     "name": "stdout",
     "output_type": "stream",
     "text": [
      "object\n"
     ]
    }
   ],
   "source": [
    "print(s.values.dtype)\n",
    "#Notice how the dtype changes above when assigning a value of a different data type"
   ]
  },
  {
   "cell_type": "markdown",
   "id": "ad18ed27",
   "metadata": {},
   "source": [
    "#### converting other data structures to Series and assignment of values"
   ]
  },
  {
   "cell_type": "code",
   "execution_count": 43,
   "id": "6ab6868f",
   "metadata": {},
   "outputs": [
    {
     "data": {
      "text/plain": [
       "0    5\n",
       "1    6\n",
       "2    7\n",
       "3    8\n",
       "dtype: int64"
      ]
     },
     "execution_count": 43,
     "metadata": {},
     "output_type": "execute_result"
    }
   ],
   "source": [
    "import numpy as np\n",
    "n1 = np.array([5,6,7,8])\n",
    "s1 = pd.Series(n1)\n",
    "s1"
   ]
  },
  {
   "cell_type": "code",
   "execution_count": 44,
   "id": "f30869fc",
   "metadata": {},
   "outputs": [],
   "source": [
    "s1[2] = -4"
   ]
  },
  {
   "cell_type": "code",
   "execution_count": 45,
   "id": "b6a76a14",
   "metadata": {},
   "outputs": [
    {
     "data": {
      "text/plain": [
       "array([ 5,  6, -4,  8])"
      ]
     },
     "execution_count": 45,
     "metadata": {},
     "output_type": "execute_result"
    }
   ],
   "source": [
    "n1"
   ]
  },
  {
   "cell_type": "code",
   "execution_count": 46,
   "id": "3d199b25",
   "metadata": {},
   "outputs": [
    {
     "data": {
      "text/plain": [
       "0    5\n",
       "1    6\n",
       "2   -4\n",
       "3    8\n",
       "dtype: int64"
      ]
     },
     "execution_count": 46,
     "metadata": {},
     "output_type": "execute_result"
    }
   ],
   "source": [
    "s1"
   ]
  },
  {
   "cell_type": "code",
   "execution_count": 47,
   "id": "576bc6f9",
   "metadata": {},
   "outputs": [],
   "source": [
    "#notice that both the Series and the numpy array are pointing to the same location.\n",
    "#Therefore, a change in either the Series of the numpy array is also reflected in the other data structure."
   ]
  },
  {
   "cell_type": "code",
   "execution_count": 48,
   "id": "61625433",
   "metadata": {},
   "outputs": [
    {
     "data": {
      "text/plain": [
       "0    5\n",
       "1    6\n",
       "3    8\n",
       "dtype: int64"
      ]
     },
     "execution_count": 48,
     "metadata": {},
     "output_type": "execute_result"
    }
   ],
   "source": [
    "#filtering values\n",
    "s1[s1>3]"
   ]
  },
  {
   "cell_type": "code",
   "execution_count": 49,
   "id": "f7a2e093",
   "metadata": {},
   "outputs": [
    {
     "data": {
      "text/plain": [
       "0    2.5\n",
       "1    3.0\n",
       "2   -2.0\n",
       "3    4.0\n",
       "dtype: float64"
      ]
     },
     "execution_count": 49,
     "metadata": {},
     "output_type": "execute_result"
    }
   ],
   "source": [
    "#Mathematical Operations\n",
    "s1/2"
   ]
  },
  {
   "cell_type": "code",
   "execution_count": 50,
   "id": "6b67a27d",
   "metadata": {},
   "outputs": [
    {
     "name": "stderr",
     "output_type": "stream",
     "text": [
      "/Users/cwbenton/anaconda3/lib/python3.11/site-packages/pandas/core/arraylike.py:396: RuntimeWarning: invalid value encountered in log\n",
      "  result = getattr(ufunc, method)(*inputs, **kwargs)\n"
     ]
    },
    {
     "data": {
      "text/plain": [
       "0    1.609438\n",
       "1    1.791759\n",
       "2         NaN\n",
       "3    2.079442\n",
       "dtype: float64"
      ]
     },
     "execution_count": 50,
     "metadata": {},
     "output_type": "execute_result"
    }
   ],
   "source": [
    "np.log(s1)"
   ]
  },
  {
   "cell_type": "code",
   "execution_count": 51,
   "id": "0e6756ce",
   "metadata": {},
   "outputs": [
    {
     "data": {
      "text/plain": [
       "0    3\n",
       "1    4\n",
       "2    4\n",
       "3    6\n",
       "4    3\n",
       "5    5\n",
       "6    1\n",
       "dtype: int64"
      ]
     },
     "execution_count": 51,
     "metadata": {},
     "output_type": "execute_result"
    }
   ],
   "source": [
    "s2 = pd.Series([3,4,4,6,3,5,1])\n",
    "s2"
   ]
  },
  {
   "cell_type": "markdown",
   "id": "47b19107",
   "metadata": {},
   "source": [
    "#### picking Unique elements"
   ]
  },
  {
   "cell_type": "code",
   "execution_count": 53,
   "id": "185a71fa",
   "metadata": {},
   "outputs": [
    {
     "data": {
      "text/plain": [
       "array([3, 4, 6, 5, 1])"
      ]
     },
     "execution_count": 53,
     "metadata": {},
     "output_type": "execute_result"
    }
   ],
   "source": [
    "s2.unique()"
   ]
  },
  {
   "cell_type": "markdown",
   "id": "99405271",
   "metadata": {},
   "source": [
    "#### getting frequency counts"
   ]
  },
  {
   "cell_type": "code",
   "execution_count": 54,
   "id": "e69c0bcc",
   "metadata": {},
   "outputs": [
    {
     "data": {
      "text/plain": [
       "3    2\n",
       "4    2\n",
       "6    1\n",
       "5    1\n",
       "1    1\n",
       "Name: count, dtype: int64"
      ]
     },
     "execution_count": 54,
     "metadata": {},
     "output_type": "execute_result"
    }
   ],
   "source": [
    "s2.value_counts()"
   ]
  },
  {
   "cell_type": "markdown",
   "id": "9a8e43d5",
   "metadata": {},
   "source": [
    "#### check if certain values are present"
   ]
  },
  {
   "cell_type": "code",
   "execution_count": 55,
   "id": "4420cb3c",
   "metadata": {},
   "outputs": [
    {
     "data": {
      "text/plain": [
       "0     True\n",
       "1     True\n",
       "2     True\n",
       "3    False\n",
       "4     True\n",
       "5    False\n",
       "6    False\n",
       "dtype: bool"
      ]
     },
     "execution_count": 55,
     "metadata": {},
     "output_type": "execute_result"
    }
   ],
   "source": [
    "s2.isin([3,4])"
   ]
  },
  {
   "cell_type": "code",
   "execution_count": 56,
   "id": "d2f4c5d8",
   "metadata": {},
   "outputs": [
    {
     "data": {
      "text/plain": [
       "0    3\n",
       "1    4\n",
       "2    4\n",
       "4    3\n",
       "dtype: int64"
      ]
     },
     "execution_count": 56,
     "metadata": {},
     "output_type": "execute_result"
    }
   ],
   "source": [
    "s2[s2.isin([3,4])]"
   ]
  },
  {
   "cell_type": "markdown",
   "id": "2165c90a",
   "metadata": {},
   "source": [
    "#### NaN values\n",
    "NaN is short for \"Not a Number\" <br>\n",
    "These values are generated whenever there is missing data (or) there is an issue while reading from a data source (or) when exceptions occur during calculations"
   ]
  },
  {
   "cell_type": "code",
   "execution_count": 57,
   "id": "638f4a4c",
   "metadata": {},
   "outputs": [
    {
     "data": {
      "text/plain": [
       "0    3.0\n",
       "1    6.0\n",
       "2    NaN\n",
       "3    7.0\n",
       "dtype: float64"
      ]
     },
     "execution_count": 57,
     "metadata": {},
     "output_type": "execute_result"
    }
   ],
   "source": [
    "#you can define a NaN value in a Series. NaN can be retrieved from \"numpy\" library.\n",
    "s3 = pd.Series([3,6,np.NaN,7])\n",
    "s3"
   ]
  },
  {
   "cell_type": "code",
   "execution_count": 58,
   "id": "288e6a62",
   "metadata": {},
   "outputs": [
    {
     "data": {
      "text/plain": [
       "0    False\n",
       "1    False\n",
       "2     True\n",
       "3    False\n",
       "dtype: bool"
      ]
     },
     "execution_count": 58,
     "metadata": {},
     "output_type": "execute_result"
    }
   ],
   "source": [
    "#To check whether your Series has a NaN value, you can use isnull() (or) notnull()\n",
    "s3.isnull()"
   ]
  },
  {
   "cell_type": "code",
   "execution_count": 59,
   "id": "04b9b821",
   "metadata": {},
   "outputs": [
    {
     "data": {
      "text/plain": [
       "0     True\n",
       "1     True\n",
       "2    False\n",
       "3     True\n",
       "dtype: bool"
      ]
     },
     "execution_count": 59,
     "metadata": {},
     "output_type": "execute_result"
    }
   ],
   "source": [
    "s3.notnull()"
   ]
  },
  {
   "cell_type": "code",
   "execution_count": 60,
   "id": "5cc87ccc",
   "metadata": {},
   "outputs": [
    {
     "data": {
      "text/plain": [
       "0    3.0\n",
       "1    6.0\n",
       "3    7.0\n",
       "dtype: float64"
      ]
     },
     "execution_count": 60,
     "metadata": {},
     "output_type": "execute_result"
    }
   ],
   "source": [
    "#What would you do if you want to retrieve the values that are not null?\n",
    "s3[s3.notnull()]"
   ]
  },
  {
   "cell_type": "markdown",
   "id": "bcc19f7d",
   "metadata": {},
   "source": [
    "#### Series as dictionaries"
   ]
  },
  {
   "cell_type": "code",
   "execution_count": 64,
   "id": "29c1daec",
   "metadata": {},
   "outputs": [
    {
     "data": {
      "text/plain": [
       "1     apple\n",
       "2    banana\n",
       "3     lemon\n",
       "dtype: object"
      ]
     },
     "execution_count": 64,
     "metadata": {},
     "output_type": "execute_result"
    }
   ],
   "source": [
    "s4 = pd.Series({1:'apple',2:'banana',3:\"lemon\"})\n",
    "s4"
   ]
  },
  {
   "cell_type": "code",
   "execution_count": 65,
   "id": "e0d5f15f",
   "metadata": {},
   "outputs": [
    {
     "data": {
      "text/plain": [
       "6     apple\n",
       "7    banana\n",
       "8     lemon\n",
       "dtype: object"
      ]
     },
     "execution_count": 65,
     "metadata": {},
     "output_type": "execute_result"
    }
   ],
   "source": [
    "#you can also reassign the indices\n",
    "l2 = [6,7,8]\n",
    "s4.index = l2\n",
    "s4"
   ]
  },
  {
   "cell_type": "markdown",
   "id": "85552797",
   "metadata": {},
   "source": [
    "#### Series operations"
   ]
  },
  {
   "cell_type": "code",
   "execution_count": 66,
   "id": "ba4bd3dc",
   "metadata": {},
   "outputs": [
    {
     "data": {
      "text/plain": [
       "7    peach\n",
       "8    grape\n",
       "dtype: object"
      ]
     },
     "execution_count": 66,
     "metadata": {},
     "output_type": "execute_result"
    }
   ],
   "source": [
    "s5 = pd.Series({7:\"peach\",8:\"grape\"})\n",
    "s5"
   ]
  },
  {
   "cell_type": "code",
   "execution_count": 67,
   "id": "9e4d9b4c",
   "metadata": {},
   "outputs": [
    {
     "data": {
      "text/plain": [
       "6            NaN\n",
       "7    bananapeach\n",
       "8     lemongrape\n",
       "dtype: object"
      ]
     },
     "execution_count": 67,
     "metadata": {},
     "output_type": "execute_result"
    }
   ],
   "source": [
    "s4 + s5"
   ]
  },
  {
   "cell_type": "code",
   "execution_count": null,
   "id": "90363a0f",
   "metadata": {},
   "outputs": [],
   "source": [
    "#What will happen if the values in both the Series are integers?"
   ]
  }
 ],
 "metadata": {
  "kernelspec": {
   "display_name": "Python 3 (ipykernel)",
   "language": "python",
   "name": "python3"
  },
  "language_info": {
   "codemirror_mode": {
    "name": "ipython",
    "version": 3
   },
   "file_extension": ".py",
   "mimetype": "text/x-python",
   "name": "python",
   "nbconvert_exporter": "python",
   "pygments_lexer": "ipython3",
   "version": "3.11.7"
  }
 },
 "nbformat": 4,
 "nbformat_minor": 5
}
